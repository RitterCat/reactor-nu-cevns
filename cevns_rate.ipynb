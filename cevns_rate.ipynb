{
 "cells": [
  {
   "cell_type": "markdown",
   "metadata": {},
   "source": [
    "#  CEvNS rate\n",
    "\n",
    "In this notebook I will work out how to calculate the CEvNS rate (initially in xenon, following Jay's code), before writing it into a single script\n",
    "\n",
    "I will start by just taking one of the fluxes calculated from the spectrum generator, but eventually it might be more useful to just define a spectrum function based on that code"
   ]
  },
  {
   "cell_type": "markdown",
   "metadata": {},
   "source": [
    "The rate calculation takes the following form:\n",
    "* Integrate over Enu from Enu_min to 8 MeV, using:\n",
    "* - Enu_min(E_R, isotope properties)\n",
    "* Integrand multiplies the:\n",
    "* - flux (fn of Enu)\n",
    "* - isotope abundance (of Xe)\n",
    "* - CEvNS rate\n",
    "* Overall normalisation factor uses the:\n",
    "* - flux normalisation (fn of distance from reactor)\n",
    "* - mass of xenon\n",
    "\n",
    "I will also follow Jay's practice in being consistent with units by making everything in terms of GeV"
   ]
  },
  {
   "cell_type": "markdown",
   "metadata": {},
   "source": [
    "## Constants"
   ]
  },
  {
   "cell_type": "code",
   "execution_count": 6,
   "metadata": {},
   "outputs": [],
   "source": [
    "GeV = 1\n",
    "MeV = 1e-3*GeV\n",
    "keV = 1e-6*GeV\n",
    "eV = 1e-9*GeV\n",
    "hbarc = 0.19732698 # GeV fm\n",
    "speed_of_light = 2.997925e8 # m/s\n",
    "Gf = 1.166378e-5/GeV**2\n",
    "electron_charge = 1.60217663e-19 # coulombs\n",
    "amu = 0.931494\n",
    "\n",
    "METER = 1e15/hbarc\n",
    "CENTIMETER = 1e-2*METER\n",
    "SECOND = speed_of_light*METER\n",
    "YEAR = 60*60*24*365.25*SECOND\n",
    "JOULE = eV/electron_charge\n",
    "GW = 1e9*JOULE/SECOND\n",
    "KILOGRAM = speed_of_light**2*JOULE\n",
    "KILOGRAMDAY = KILOGRAM*(60*60*24*SECOND)\n",
    "CM2S = CENTIMETER**2*SECOND"
   ]
  },
  {
   "cell_type": "code",
   "execution_count": 8,
   "metadata": {},
   "outputs": [],
   "source": [
    "xe124 = {\"Z\": 54, \"A\": 124, \"abundance\": 0.00095, \"mass\": 123.906*amu}\n",
    "xe126 = {\"Z\": 54, \"A\": 126, \"abundance\": 0.00089, \"mass\": 125.904*amu}\n",
    "xe128 = {\"Z\": 54, \"A\": 128, \"abundance\": 0.0191, \"mass\": 127.904*amu}\n",
    "xe129 = {\"Z\": 54, \"A\": 129, \"abundance\": 0.26401, \"mass\": 128.905*amu}\n",
    "xe130 = {\"Z\": 54, \"A\": 130, \"abundance\": 0.04071, \"mass\": 129.904*amu}\n",
    "xe131 = {\"Z\": 54, \"A\": 131, \"abundance\": 0.21232, \"mass\": 130.905*amu}\n",
    "xe132 = {\"Z\": 54, \"A\": 132, \"abundance\": 0.26909, \"mass\": 131.904*amu}\n",
    "xe134 = {\"Z\": 54, \"A\": 134, \"abundance\": 0.10436, \"mass\": 133.905*amu}\n",
    "xe136 = {\"Z\": 54, \"A\": 136, \"abundance\": 0.08857, \"mass\": 135.907*amu}\n",
    "isotopesXe = [xe124, xe126, xe128, xe129, xe130, xe131, xe132, xe134, xe136]\n",
    "\n",
    "mXe = 131.293*amu"
   ]
  },
  {
   "cell_type": "markdown",
   "metadata": {},
   "source": [
    "## CEvNS cross section"
   ]
  },
  {
   "cell_type": "code",
   "execution_count": null,
   "metadata": {},
   "outputs": [],
   "source": []
  },
  {
   "cell_type": "markdown",
   "metadata": {},
   "source": [
    "## Fluxes"
   ]
  },
  {
   "cell_type": "markdown",
   "metadata": {},
   "source": [
    "Eventually the goal will be to write code here that generates spectra for given reactor properties, but for now I will just import fluxes calculated using the spectrum generator code"
   ]
  },
  {
   "cell_type": "markdown",
   "metadata": {},
   "source": [
    "## CEvNS rate"
   ]
  },
  {
   "cell_type": "code",
   "execution_count": null,
   "metadata": {},
   "outputs": [],
   "source": []
  },
  {
   "cell_type": "markdown",
   "metadata": {},
   "source": []
  }
 ],
 "metadata": {
  "interpreter": {
   "hash": "a797febe83f8a25102241d43976b47efed51c19feba987b4b2fd4fe43ac291de"
  },
  "kernelspec": {
   "display_name": "Python 3.7.2 ('base')",
   "language": "python",
   "name": "python3"
  },
  "language_info": {
   "codemirror_mode": {
    "name": "ipython",
    "version": 3
   },
   "file_extension": ".py",
   "mimetype": "text/x-python",
   "name": "python",
   "nbconvert_exporter": "python",
   "pygments_lexer": "ipython3",
   "version": "3.7.2"
  },
  "orig_nbformat": 4
 },
 "nbformat": 4,
 "nbformat_minor": 2
}
