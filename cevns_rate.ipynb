{
 "cells": [
  {
   "cell_type": "code",
   "execution_count": 1,
   "metadata": {},
   "outputs": [],
   "source": [
    "import numpy as np\n",
    "from scipy.interpolate import CubicSpline\n",
    "from scipy.integrate import quad\n",
    "import matplotlib.pyplot as plt"
   ]
  },
  {
   "cell_type": "markdown",
   "metadata": {},
   "source": [
    "#  CEvNS rate\n",
    "\n",
    "In this notebook I will work out how to calculate the CEvNS rate (initially in xenon, following Jay's code), before writing it into a single script\n",
    "\n",
    "I will start by just taking one of the fluxes calculated from the spectrum generator, but eventually it might be more useful to just define a spectrum function based on that code"
   ]
  },
  {
   "cell_type": "markdown",
   "metadata": {},
   "source": [
    "The rate calculation takes the following form:\n",
    "* Integrate over Enu from Enu_min to 8 MeV, using:\n",
    "* - Enu_min(E_R, isotope properties)\n",
    "* Integrand multiplies the:\n",
    "* - flux (fn of Enu)\n",
    "* - isotope abundance (of Xe)\n",
    "* - CEvNS rate\n",
    "* Overall normalisation factor uses the:\n",
    "* - flux normalisation (fn of distance from reactor)\n",
    "* - mass of xenon\n",
    "\n",
    "I will also follow Jay's practice in being consistent with units by making everything in terms of GeV"
   ]
  },
  {
   "cell_type": "markdown",
   "metadata": {},
   "source": [
    "## Constants"
   ]
  },
  {
   "cell_type": "code",
   "execution_count": 2,
   "metadata": {},
   "outputs": [],
   "source": [
    "GeV = 1\n",
    "MeV = 1e-3*GeV\n",
    "keV = 1e-6*GeV\n",
    "eV = 1e-9*GeV\n",
    "hbarc = 0.19732698 # GeV fm\n",
    "speed_of_light = 2.997925e8 # m/s\n",
    "Gf = 1.166378e-5/GeV**2\n",
    "electron_charge = 1.60217663e-19 # coulombs\n",
    "amu = 0.931494\n",
    "\n",
    "METER = 1e15/hbarc\n",
    "CENTIMETER = 1e-2*METER\n",
    "SECOND = speed_of_light*METER\n",
    "YEAR = 60*60*24*365.25*SECOND\n",
    "JOULE = eV/electron_charge\n",
    "GW = 1e9*JOULE/SECOND\n",
    "KILOGRAM = speed_of_light**2*JOULE\n",
    "KILOGRAMDAY = KILOGRAM*(60*60*24*SECOND)\n",
    "CM2S = CENTIMETER**2*SECOND"
   ]
  },
  {
   "cell_type": "code",
   "execution_count": 3,
   "metadata": {},
   "outputs": [],
   "source": [
    "xe124 = {\"Z\": 54, \"A\": 124, \"abundance\": 0.00095, \"mass\": 123.906*amu}\n",
    "xe126 = {\"Z\": 54, \"A\": 126, \"abundance\": 0.00089, \"mass\": 125.904*amu}\n",
    "xe128 = {\"Z\": 54, \"A\": 128, \"abundance\": 0.0191, \"mass\": 127.904*amu}\n",
    "xe129 = {\"Z\": 54, \"A\": 129, \"abundance\": 0.26401, \"mass\": 128.905*amu}\n",
    "xe130 = {\"Z\": 54, \"A\": 130, \"abundance\": 0.04071, \"mass\": 129.904*amu}\n",
    "xe131 = {\"Z\": 54, \"A\": 131, \"abundance\": 0.21232, \"mass\": 130.905*amu}\n",
    "xe132 = {\"Z\": 54, \"A\": 132, \"abundance\": 0.26909, \"mass\": 131.904*amu}\n",
    "xe134 = {\"Z\": 54, \"A\": 134, \"abundance\": 0.10436, \"mass\": 133.905*amu}\n",
    "xe136 = {\"Z\": 54, \"A\": 136, \"abundance\": 0.08857, \"mass\": 135.907*amu}\n",
    "isotopesXe = [xe124, xe126, xe128, xe129, xe130, xe131, xe132, xe134, xe136]\n",
    "\n",
    "mXe = 131.293*amu"
   ]
  },
  {
   "cell_type": "code",
   "execution_count": 4,
   "metadata": {},
   "outputs": [],
   "source": [
    "Qp = 0.0747\n",
    "Qn = -1.0235"
   ]
  },
  {
   "cell_type": "markdown",
   "metadata": {},
   "source": [
    "## Kinematics"
   ]
  },
  {
   "cell_type": "code",
   "execution_count": 15,
   "metadata": {},
   "outputs": [],
   "source": [
    "def Enu_min(ER, mT):\n",
    "    return 0.5*(ER + (2*ER*mT)**0.5)\n",
    "\n",
    "def ER_max(Enu, mT):\n",
    "    return 2*Enu**2/(mT + 2*Enu)"
   ]
  },
  {
   "cell_type": "markdown",
   "metadata": {},
   "source": [
    "## CEvNS cross section"
   ]
  },
  {
   "cell_type": "code",
   "execution_count": 16,
   "metadata": {},
   "outputs": [],
   "source": [
    "def Fhelm(q, A):\n",
    "    s = 0.9\n",
    "    r = ( (1.23*A**(1/3) - 0.6)**2 + (7/3)*np.pi**2*0.52**2 - 5*s**2 )**0.5\n",
    "    return 3 * ( np.sin(q*r/hbarc) - (q*r/hbarc)*np.cos(q*r/hbarc) ) / ( q*r/hbarc )**3 * np.exp( -1*(q*s/hbarc)**2/2 )\n",
    "\n",
    "def dsigma_dER(ER, Enu, isotope):\n",
    "    mT = isotope[\"mass\"]\n",
    "    Z = isotope[\"Z\"]\n",
    "    A = isotope[\"A\"]\n",
    "\n",
    "\n",
    "    prefactor = (Gf**2 * isotope[\"mass\"]) / (4*np.pi)\n",
    "    kinematic_factor = 1 - (ER/Enu) - (ER*mT)/(2*Enu**2)\n",
    "    weak_charge = Z*Qp + (A-Z)*Qn\n",
    "    q = (2*mT*ER)**0.5\n",
    "\n",
    "    return prefactor * kinematic_factor * weak_charge**2 * Fhelm(q, A)"
   ]
  },
  {
   "cell_type": "markdown",
   "metadata": {},
   "source": [
    "## Fluxes"
   ]
  },
  {
   "cell_type": "markdown",
   "metadata": {},
   "source": [
    "Eventually the goal will be to write code here that generates spectra for given reactor properties, but for now I will just import fluxes calculated using the spectrum generator code"
   ]
  },
  {
   "cell_type": "code",
   "execution_count": 17,
   "metadata": {},
   "outputs": [],
   "source": [
    "def get_spectrum(filename):\n",
    "    energies = []\n",
    "    fluxes = []\n",
    "\n",
    "    for line in open(filename):\n",
    "        if not line.startswith(\"#\"):\n",
    "            line=line.strip(\"\\n\")\n",
    "            lineParts=line.split(\",\")\n",
    "            energies.append(float(lineParts[0]))\n",
    "            fluxes.append(float(lineParts[1]))\n",
    "    \n",
    "    return (np.array(energies)*MeV, np.array(fluxes)/SECOND/MeV) # this is to put it in units in terms of GeV. Might not be needed if I edit the spectrum generation code"
   ]
  },
  {
   "cell_type": "code",
   "execution_count": 10,
   "metadata": {},
   "outputs": [],
   "source": [
    "TRIGA_flux_data = get_spectrum('spectra/TRIGA_flux.text')\n",
    "Kaixuan_flux_data = get_spectrum('spectra/Kaixuan_flux.text')\n",
    "HFIR_flux_data = get_spectrum('spectra/HFIR_flux.text')"
   ]
  },
  {
   "cell_type": "code",
   "execution_count": 11,
   "metadata": {},
   "outputs": [],
   "source": [
    "TRIGA_flux = CubicSpline(*TRIGA_flux_data, extrapolate=False)\n",
    "Kaixuan_flux = CubicSpline(*Kaixuan_flux_data, extrapolate=False)\n",
    "HFIR_flux = CubicSpline(*HFIR_flux_data, extrapolate=False)"
   ]
  },
  {
   "cell_type": "markdown",
   "metadata": {},
   "source": [
    "## CEvNS rate in xenon"
   ]
  },
  {
   "cell_type": "code",
   "execution_count": 27,
   "metadata": {},
   "outputs": [],
   "source": [
    "def flux_norm(L):\n",
    "    return 1/(4*np.pi*L**2)\n",
    "\n",
    "def dR_dER_Xe(ER, flux, L):\n",
    "\n",
    "    flux_Enu_min, flux_Enu_max = flux.x[0], 8*MeV #flux.x[-1] ### NEED TO DETERMINE WHAT ENDPOINT TO USE\n",
    "\n",
    "    def integrand(Enu, isotope):\n",
    "        return flux(Enu) * isotope[\"abundance\"] * dsigma_dER(ER, Enu, isotope)\n",
    "\n",
    "    def unnormalised_rate_per_isotope(isotope):\n",
    "\n",
    "        min_endpoint = min( max( Enu_min(ER, isotope[\"mass\"]), flux_Enu_min ), flux_Enu_max )\n",
    "        max_endpoint = flux_Enu_max\n",
    "        \n",
    "        integral = quad(integrand, min_endpoint, max_endpoint, args=(isotope))\n",
    "        return integral[0]\n",
    "\n",
    "    return (flux_norm(L)/mXe)*sum([unnormalised_rate_per_isotope(isotope) for isotope in isotopesXe])"
   ]
  },
  {
   "cell_type": "markdown",
   "metadata": {},
   "source": [
    "Example rates calculations"
   ]
  },
  {
   "cell_type": "code",
   "execution_count": 29,
   "metadata": {},
   "outputs": [],
   "source": [
    "ER_array = np.linspace(0.02, 1.1, 50)\n",
    "TRIGA5m_rate_data = [dR_dER_Xe(ER*keV, TRIGA_flux, 5*METER)*KILOGRAMDAY*keV for ER in ER_array]\n",
    "HFIR7m_rate_data = [dR_dER_Xe(ER*keV, HFIR_flux, 7*METER)*KILOGRAMDAY*keV for ER in ER_array]\n",
    "Kaixuan25m_rate_data = [dR_dER_Xe(ER*keV, Kaixuan_flux, 25*METER)*KILOGRAMDAY*keV for ER in ER_array]\n"
   ]
  },
  {
   "cell_type": "code",
   "execution_count": 30,
   "metadata": {},
   "outputs": [
    {
     "data": {
      "text/plain": [
       "[<matplotlib.axis.XTick at 0x7f4e566f9d30>,\n",
       " <matplotlib.axis.XTick at 0x7f4e56722978>,\n",
       " <matplotlib.axis.XTick at 0x7f4e567222b0>,\n",
       " <matplotlib.axis.XTick at 0x7f4e5672f198>]"
      ]
     },
     "execution_count": 30,
     "metadata": {},
     "output_type": "execute_result"
    },
    {
     "data": {
      "image/png": "[encoded data removed]",
      "text/plain": [
       "<Figure size 432x432 with 1 Axes>"
      ]
     },
     "metadata": {
      "needs_background": "light"
     },
     "output_type": "display_data"
    }
   ],
   "source": [
    "fig, ax = plt.subplots(figsize=(6,6))\n",
    "\n",
    "ax.plot(ER_array, TRIGA5m_rate_data, label=\"TRIGA @ 5m\")\n",
    "ax.plot(ER_array, HFIR7m_rate_data, label=\"HFIR @ 7m\")\n",
    "ax.plot(ER_array, Kaixuan25m_rate_data, label=\"Reactor @ 25m\")\n",
    "\n",
    "ax.set_xlabel(\"Recoil energy, $E_R$ (keV)\", fontsize=25)\n",
    "ax.set_ylabel(\"Rate (/kg/day/keV)\", fontsize=25)\n",
    "\n",
    "ax.legend(fontsize=15)\n",
    "\n",
    "ax.set_yscale('log')\n",
    "ax.set_xlim(0, 1.5)\n",
    "ax.set_ylim(2e-3, 2e3)\n",
    "ax.tick_params(labelsize=15)\n",
    "ax.set_xticks([0,.5,1,1.5])\n"
   ]
  },
  {
   "cell_type": "code",
   "execution_count": 44,
   "metadata": {},
   "outputs": [],
   "source": [
    "def total_CEvNS_rate_Xe(threshold, flux, L):\n",
    "    return quad(dR_dER_Xe, threshold, ER_max(8*MeV, mXe), args=(flux, L))[0]"
   ]
  },
  {
   "cell_type": "code",
   "execution_count": 46,
   "metadata": {},
   "outputs": [
    {
     "name": "stdout",
     "output_type": "stream",
     "text": [
      "HFIR @ 7m with different thresholds:\n",
      "0.1 keV: 2.138e+01\n",
      "0.2 keV: 7.648e+00\n",
      "0.5 keV: 4.620e-01\n",
      "1 keV: 6.822e-05\n"
     ]
    }
   ],
   "source": [
    "print(\"HFIR @ 7m with different thresholds:\")\n",
    "print(f\"0.1 keV: {total_CEvNS_rate_Xe(0.1*keV, HFIR_flux, 7*METER)*KILOGRAMDAY:.3e}\")\n",
    "print(f\"0.2 keV: {total_CEvNS_rate_Xe(0.2*keV, HFIR_flux, 7*METER)*KILOGRAMDAY:.3e}\")\n",
    "print(f\"0.5 keV: {total_CEvNS_rate_Xe(0.5*keV, HFIR_flux, 7*METER)*KILOGRAMDAY:.3e}\")\n",
    "print(f\"1 keV: {total_CEvNS_rate_Xe(1*keV, HFIR_flux, 7*METER)*KILOGRAMDAY:.3e}\")"
   ]
  },
  {
   "cell_type": "code",
   "execution_count": null,
   "metadata": {},
   "outputs": [],
   "source": []
  }
 ],
 "metadata": {
  "interpreter": {
   "hash": "a797febe83f8a25102241d43976b47efed51c19feba987b4b2fd4fe43ac291de"
  },
  "kernelspec": {
   "display_name": "Python 3.7.2 ('base')",
   "language": "python",
   "name": "python3"
  },
  "language_info": {
   "codemirror_mode": {
    "name": "ipython",
    "version": 3
   },
   "file_extension": ".py",
   "mimetype": "text/x-python",
   "name": "python",
   "nbconvert_exporter": "python",
   "pygments_lexer": "ipython3",
   "version": "3.7.2"
  },
  "orig_nbformat": 4
 },
 "nbformat": 4,
 "nbformat_minor": 2
}
