{
 "cells": [
  {
   "cell_type": "code",
   "execution_count": 62,
   "metadata": {},
   "outputs": [],
   "source": [
    "import numpy as np\n",
    "from scipy.interpolate import interp1d\n",
    "from scipy.integrate import quad\n",
    "import matplotlib.pyplot as plt"
   ]
  },
  {
   "cell_type": "markdown",
   "metadata": {},
   "source": [
    "#  CEvNS rate\n",
    "\n",
    "In this notebook I will work out how to calculate the CEvNS rate (initially in xenon, following Jay's code), before writing it into a single script\n",
    "\n",
    "I will start by just taking one of the fluxes calculated from the spectrum generator, but eventually it might be more useful to just define a spectrum function based on that code"
   ]
  },
  {
   "cell_type": "markdown",
   "metadata": {},
   "source": [
    "The rate calculation takes the following form:\n",
    "* Integrate over Enu from Enu_min to 8 MeV, using:\n",
    "* - Enu_min(E_R, isotope properties)\n",
    "* Integrand multiplies the:\n",
    "* - flux (fn of Enu)\n",
    "* - isotope abundance (of Xe)\n",
    "* - CEvNS rate\n",
    "* Overall normalisation factor uses the:\n",
    "* - flux normalisation (fn of distance from reactor)\n",
    "* - mass of xenon\n",
    "\n",
    "I will also follow Jay's practice in being consistent with units by making everything in terms of GeV"
   ]
  },
  {
   "cell_type": "markdown",
   "metadata": {},
   "source": [
    "## Constants"
   ]
  },
  {
   "cell_type": "code",
   "execution_count": 2,
   "metadata": {},
   "outputs": [],
   "source": [
    "GeV = 1\n",
    "MeV = 1e-3*GeV\n",
    "keV = 1e-6*GeV\n",
    "eV = 1e-9*GeV\n",
    "hbarc = 0.19732698 # GeV fm\n",
    "speed_of_light = 2.997925e8 # m/s\n",
    "Gf = 1.166378e-5/GeV**2\n",
    "electron_charge = 1.60217663e-19 # coulombs\n",
    "amu = 0.931494\n",
    "\n",
    "METER = 1e15/hbarc\n",
    "CENTIMETER = 1e-2*METER\n",
    "SECOND = speed_of_light*METER\n",
    "YEAR = 60*60*24*365.25*SECOND\n",
    "JOULE = eV/electron_charge\n",
    "GW = 1e9*JOULE/SECOND\n",
    "KILOGRAM = speed_of_light**2*JOULE\n",
    "KILOGRAMDAY = KILOGRAM*(60*60*24*SECOND)\n",
    "CM2S = CENTIMETER**2*SECOND"
   ]
  },
  {
   "cell_type": "code",
   "execution_count": 3,
   "metadata": {},
   "outputs": [],
   "source": [
    "xe124 = {\"Z\": 54, \"A\": 124, \"abundance\": 0.00095, \"mass\": 123.906*amu}\n",
    "xe126 = {\"Z\": 54, \"A\": 126, \"abundance\": 0.00089, \"mass\": 125.904*amu}\n",
    "xe128 = {\"Z\": 54, \"A\": 128, \"abundance\": 0.0191, \"mass\": 127.904*amu}\n",
    "xe129 = {\"Z\": 54, \"A\": 129, \"abundance\": 0.26401, \"mass\": 128.905*amu}\n",
    "xe130 = {\"Z\": 54, \"A\": 130, \"abundance\": 0.04071, \"mass\": 129.904*amu}\n",
    "xe131 = {\"Z\": 54, \"A\": 131, \"abundance\": 0.21232, \"mass\": 130.905*amu}\n",
    "xe132 = {\"Z\": 54, \"A\": 132, \"abundance\": 0.26909, \"mass\": 131.904*amu}\n",
    "xe134 = {\"Z\": 54, \"A\": 134, \"abundance\": 0.10436, \"mass\": 133.905*amu}\n",
    "xe136 = {\"Z\": 54, \"A\": 136, \"abundance\": 0.08857, \"mass\": 135.907*amu}\n",
    "isotopesXe = [xe124, xe126, xe128, xe129, xe130, xe131, xe132, xe134, xe136]\n",
    "\n",
    "mXe = 131.293*amu"
   ]
  },
  {
   "cell_type": "code",
   "execution_count": 5,
   "metadata": {},
   "outputs": [],
   "source": [
    "Qp = 0.0747\n",
    "Qn = -1.0235"
   ]
  },
  {
   "cell_type": "markdown",
   "metadata": {},
   "source": [
    "## Kinematics"
   ]
  },
  {
   "cell_type": "code",
   "execution_count": 64,
   "metadata": {},
   "outputs": [],
   "source": [
    "def Enu_min(ER, mT):\n",
    "    return 0.5*(ER + (ER**2 + 2*ER*mT)**0.5)"
   ]
  },
  {
   "cell_type": "markdown",
   "metadata": {},
   "source": [
    "## CEvNS cross section"
   ]
  },
  {
   "cell_type": "code",
   "execution_count": 76,
   "metadata": {},
   "outputs": [],
   "source": [
    "def Fhelm(q, A):\n",
    "    s = 0.9\n",
    "    r = ( (1.23*A**(1/3) - 0.6)**2 + (7/3)*np.pi**2*0.52**2 - 5*s**2 )**0.5\n",
    "    return 3 * ( np.sin(q*r/hbarc) - (q*r/hbarc)*np.cos(q*r/hbarc) ) / ( q*r/hbarc )**3 * np.exp( -1*(q*s/hbarc)**2/2 )\n",
    "\n",
    "def dsigma_dER(ER, Enu, isotope):\n",
    "    mT = isotope[\"mass\"]\n",
    "    Z = isotope[\"Z\"]\n",
    "    A = isotope[\"A\"]\n",
    "\n",
    "\n",
    "    prefactor = (Gf**2 * isotope[\"mass\"]) / (4*np.pi)\n",
    "    kinematic_factor = 1 - (ER/Enu) - (ER*mT)/(2*Enu**2)\n",
    "    weak_charge = Z*Qp + (A-Z)*Qn\n",
    "    q = (2*mT*ER)**0.5\n",
    "\n",
    "    return prefactor * kinematic_factor * weak_charge**2 * Fhelm(q, A)"
   ]
  },
  {
   "cell_type": "markdown",
   "metadata": {},
   "source": [
    "## Fluxes"
   ]
  },
  {
   "cell_type": "markdown",
   "metadata": {},
   "source": [
    "Eventually the goal will be to write code here that generates spectra for given reactor properties, but for now I will just import fluxes calculated using the spectrum generator code"
   ]
  },
  {
   "cell_type": "code",
   "execution_count": 43,
   "metadata": {},
   "outputs": [],
   "source": [
    "def get_spectrum(filename):\n",
    "    energies = []\n",
    "    fluxes = []\n",
    "\n",
    "    for line in open(filename):\n",
    "        if not line.startswith(\"#\"):\n",
    "            line=line.strip(\"\\n\")\n",
    "            lineParts=line.split(\",\")\n",
    "            energies.append(float(lineParts[0]))\n",
    "            fluxes.append(float(lineParts[1]))\n",
    "    \n",
    "    return (np.array(energies)*MeV, np.array(fluxes)/SECOND/MeV) # this is to put it in units in terms of GeV. Might not be needed if I edit the spectrum generation code"
   ]
  },
  {
   "cell_type": "code",
   "execution_count": 44,
   "metadata": {},
   "outputs": [],
   "source": [
    "TRIGA_flux_data = get_spectrum('spectra/TRIGA_flux.text')\n",
    "Kaixuan_flux_data = get_spectrum('spectra/Kaixuan_flux.text')\n",
    "HFIR_flux_data = get_spectrum('spectra/HFIR_flux.text')"
   ]
  },
  {
   "cell_type": "code",
   "execution_count": 70,
   "metadata": {},
   "outputs": [],
   "source": [
    "TRIGA_flux = interp1d(*TRIGA_flux_data, kind=\"cubic\")\n",
    "Kaixuan_flux = interp1d(*Kaixuan_flux_data, kind=\"cubic\")\n",
    "HFIR_flux = interp1d(*HFIR_flux_data, kind=\"cubic\")"
   ]
  },
  {
   "cell_type": "markdown",
   "metadata": {},
   "source": [
    "## CEvNS rate in xenon"
   ]
  },
  {
   "cell_type": "code",
   "execution_count": 131,
   "metadata": {},
   "outputs": [],
   "source": [
    "def flux_norm(L):\n",
    "    return 1/(4*np.pi*L**2)\n",
    "\n",
    "def dR_dER_Xe(flux, L, ER):\n",
    "\n",
    "    def integrand(Enu, isotope):\n",
    "        return flux(Enu) * isotope[\"abundance\"] * dsigma_dER(ER, Enu, isotope)\n",
    "\n",
    "    def unnormalised_rate_per_isotope(isotope):\n",
    "        integral = quad(integrand, Enu_min(ER, isotope[\"mass\"]), 8*MeV, args=(isotope))\n",
    "        # print(integral[1]/integral[0])\n",
    "        return integral[0]\n",
    "\n",
    "    return (flux_norm(L)/mXe)*sum([unnormalised_rate_per_isotope(isotope) for isotope in isotopesXe])"
   ]
  },
  {
   "cell_type": "code",
   "execution_count": 139,
   "metadata": {},
   "outputs": [
    {
     "data": {
      "image/png": "[encoded data removed]",
      "text/plain": [
       "<Figure size 432x576 with 1 Axes>"
      ]
     },
     "metadata": {
      "needs_background": "light"
     },
     "output_type": "display_data"
    }
   ],
   "source": [
    "fig, ax = plt.subplots(figsize=(6,8))\n",
    "\n",
    "ER_array = np.linspace(0.02, 1, 50)\n",
    "rates = [dR_dER_Xe(TRIGA_flux, 5*METER, ER*keV)*KILOGRAMDAY*keV for ER in ER_array]\n",
    "\n",
    "ax.plot(ER_array, rates)\n",
    "\n",
    "ax.set_yscale('log')"
   ]
  },
  {
   "cell_type": "markdown",
   "metadata": {},
   "source": []
  }
 ],
 "metadata": {
  "interpreter": {
   "hash": "a797febe83f8a25102241d43976b47efed51c19feba987b4b2fd4fe43ac291de"
  },
  "kernelspec": {
   "display_name": "Python 3.7.2 ('base')",
   "language": "python",
   "name": "python3"
  },
  "language_info": {
   "codemirror_mode": {
    "name": "ipython",
    "version": 3
   },
   "file_extension": ".py",
   "mimetype": "text/x-python",
   "name": "python",
   "nbconvert_exporter": "python",
   "pygments_lexer": "ipython3",
   "version": "3.7.2"
  },
  "orig_nbformat": 4
 },
 "nbformat": 4,
 "nbformat_minor": 2
}
